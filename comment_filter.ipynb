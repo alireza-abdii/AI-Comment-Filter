{
  "cells": [
    {
      "cell_type": "code",
      "execution_count": null,
      "metadata": {
        "colab": {
          "base_uri": "https://localhost:8080/",
          "height": 1000
        },
        "id": "op5mK7qM6rJ1",
        "outputId": "023da002-0f74-4ecf-c737-ec90feb482d9"
      },
      "outputs": [],
      "source": [
        "# حذف بسته‌های مشکل‌ساز\n",
        "!pip uninstall -y numpy pandas torch transformers datasets hazm tokenizers accelerate\n",
        "\n",
        "# نصب نسخه‌هایی که با Colab و transformers سازگار و پایدار باشند\n",
        "%pip install numpy==1.26.2 pandas==2.2.2\n",
        "%pip install torch==2.1.0 torchvision torchaudio --index-url https://download.pytorch.org/whl/cpu\n",
        "%pip install datasets==2.14.0 tokenizers==0.15.2\n",
        "%pip install transformers==4.41.0\n",
        "%pip install hazm accelerate"
      ]
    },
    {
      "cell_type": "code",
      "execution_count": null,
      "metadata": {
        "colab": {
          "base_uri": "https://localhost:8080/"
        },
        "id": "27jexDYoarad",
        "outputId": "3fedd266-b9e1-4823-d7d0-291a366b8559"
      },
      "outputs": [],
      "source": [
        "try:\n",
        "    import numpy as np\n",
        "    import pandas as pd\n",
        "    import torch\n",
        "    from hazm import Normalizer\n",
        "    from datasets import Dataset\n",
        "    from transformers import AutoTokenizer, AutoModelForSequenceClassification, TrainingArguments, Trainer\n",
        "\n",
        "    print(\"✅ کتابخانه‌ها با موفقیت import شدند!\")\n",
        "    print(f\"🔹 numpy: {np.__version__}\")\n",
        "    print(f\"🔹 pandas: {pd.__version__}\")\n",
        "    print(f\"🔹 torch: {torch.__version__}\")\n",
        "    print(f\"🔹 transformers: {transformers.__version__}\")\n",
        "\n",
        "except Exception as e:\n",
        "    print(\"❌ خطا در import:\", e)\n"
      ]
    },
    {
      "cell_type": "code",
      "execution_count": null,
      "metadata": {
        "id": "fmfy68GpHiAc"
      },
      "outputs": [],
      "source": [
        "import pandas as pd\n",
        "\n",
        "# لینک‌ها\n",
        "url1 = \"https://raw.githubusercontent.com/davardoust/PHICAD/main/PHICAD-part1.csv\"\n",
        "url2 = \"https://raw.githubusercontent.com/davardoust/PHICAD/main/PHICAD-part2.csv\"\n",
        "\n",
        "# 📥 خواندن فایل‌ها با تنظیمات دقیق\n",
        "df1 = pd.read_csv(url1, sep=\"\\t\", header=0)\n",
        "df2 = pd.read_csv(url2, sep=\"\\t\", header=0)\n",
        "\n",
        "# 🔗 ادغام\n",
        "df = pd.concat([df1, df2], ignore_index=True)\n",
        "\n",
        "# حذف ستون‌های اضافه‌ای که اشتباه وارد شدن\n",
        "expected_columns = ['comment_normalized', 'hate', 'spam', 'obscene', 'class']\n",
        "df = df[expected_columns]\n",
        "\n",
        "# نمایش اولیه\n",
        "print(f\"🔢 تعداد کل داده‌ها: {len(df)}\")\n",
        "print(\"🧾 ستون‌ها:\", df.columns.tolist())\n",
        "print(df.head(3))"
      ]
    },
    {
      "cell_type": "code",
      "execution_count": null,
      "metadata": {
        "id": "7ZcXastoHn6k"
      },
      "outputs": [],
      "source": [
        "from sklearn.preprocessing import LabelEncoder\n",
        "from datasets import Dataset\n",
        "\n",
        "# حذف ردیف‌هایی که مقدار کلاس ندارن\n",
        "df = df.dropna(subset=[\"class\"])\n",
        "\n",
        "# دوباره لیبل‌ها رو بساز\n",
        "label_encoder = LabelEncoder()\n",
        "df.loc[:, \"label\"] = label_encoder.fit_transform(df[\"class\"])\n",
        "\n",
        "# نمایش کلاس‌ها\n",
        "label_map = dict(zip(label_encoder.classes_, label_encoder.transform(label_encoder.classes_)))\n",
        "print(\"🔢 کلاس‌ها:\", label_map)\n",
        "\n",
        "# تبدیل به Dataset\n",
        "dataset = Dataset.from_pandas(df[[\"comment_normalized\", \"label\"]])\n",
        "print(\"✅ Dataset آماده است!\")"
      ]
    },
    {
      "cell_type": "code",
      "execution_count": null,
      "metadata": {
        "id": "2ZFXzcXfHr6W"
      },
      "outputs": [],
      "source": [
        "from hazm import Normalizer\n",
        "from transformers import AutoTokenizer\n",
        "\n",
        "normalizer = Normalizer()\n",
        "model_name = \"HooshvareLab/bert-base-parsbert-uncased\"\n",
        "tokenizer = AutoTokenizer.from_pretrained(model_name)س\n",
        "\n",
        "def preprocess_data(texts):\n",
        "    return tokenizer([normalizer.normalize(t) for t in texts], truncation=True, padding=True)\n",
        "\n",
        "print(\"✅ توکنایزر و نرمالایزر آماده است!\")\n"
      ]
    },
    {
      "cell_type": "code",
      "execution_count": null,
      "metadata": {
        "id": "bBucq0fGHuuc"
      },
      "outputs": [],
      "source": [
        "\n",
        "encodings = preprocess_data(df['text'].tolist())\n",
        "labels = df['label'].tolist()\n",
        "\n",
        "dataset = Dataset.from_dict({\n",
        "    'input_ids': encodings['input_ids'],\n",
        "    'attention_mask': encodings['attention_mask'],\n",
        "    'labels': labels\n",
        "})\n",
        "\n",
        "splits = dataset.train_test_split(test_size=0.1, seed=42)\n",
        "train_dataset = splits['train']\n",
        "eval_dataset = splits['test']"
      ]
    },
    {
      "cell_type": "code",
      "execution_count": null,
      "metadata": {
        "id": "zylv30mDHz9q"
      },
      "outputs": [],
      "source": [
        "model = AutoModelForSequenceClassification.from_pretrained(model_name, num_labels=2)"
      ]
    },
    {
      "cell_type": "code",
      "execution_count": null,
      "metadata": {
        "id": "DA1Wm3mgH3JX"
      },
      "outputs": [],
      "source": [
        "training_args = TrainingArguments(\n",
        "    output_dir=\"./phicad_results\",\n",
        "    evaluation_strategy=\"epoch\",\n",
        "    save_strategy=\"epoch\",\n",
        "    num_train_epochs=3,\n",
        "    per_device_train_batch_size=8,\n",
        "    per_device_eval_batch_size=8,\n",
        "    weight_decay=0.01,\n",
        "    logging_steps=100,\n",
        "    logging_dir='./phicad_logs'\n",
        ")\n",
        "\n",
        "trainer = Trainer(\n",
        "    model=model,\n",
        "    args=training_args,\n",
        "    train_dataset=train_dataset,\n",
        "    eval_dataset=eval_dataset,\n",
        ")"
      ]
    },
    {
      "cell_type": "code",
      "execution_count": null,
      "metadata": {
        "id": "p1ca3Ia9H5v1"
      },
      "outputs": [],
      "source": [
        "trainer.train()"
      ]
    },
    {
      "cell_type": "code",
      "execution_count": null,
      "metadata": {
        "id": "sQxQNpnyH8JJ"
      },
      "outputs": [],
      "source": [
        "metrics = trainer.evaluate()\n",
        "print(metrics)\n",
        "\n",
        "model.save_pretrained(\"phicad_model\")\n",
        "tokenizer.save_pretrained(\"phicad_model\")"
      ]
    },
    {
      "cell_type": "code",
      "execution_count": null,
      "metadata": {
        "id": "7nduQ3pvH-RD"
      },
      "outputs": [],
      "source": [
        "def is_inappropriate(text):\n",
        "    t = normalizer.normalize(text)\n",
        "    inputs = tokenizer(t, return_tensors=\"pt\", truncation=True, padding=True, max_length=128)\n",
        "    with torch.no_grad():\n",
        "        logits = model(**inputs).logits\n",
        "    return torch.argmax(logits, dim=1).item() == 1\n",
        "\n",
        "comments = [\n",
        "    \"لعنت به این وضعیت خرابات!\",\n",
        "    \"خیلی ممنون از خدمات شما\"\n",
        "]\n",
        "for c in comments:\n",
        "    print(c, \"→\", \"نامناسب\" if is_inappropriate(c) else \"مناسب\")"
      ]
    }
  ],
  "metadata": {
    "colab": {
      "provenance": []
    },
    "kernelspec": {
      "display_name": "Python 3",
      "language": "python",
      "name": "python3"
    },
    "language_info": {
      "codemirror_mode": {
        "name": "ipython",
        "version": 3
      },
      "file_extension": ".py",
      "mimetype": "text/x-python",
      "name": "python",
      "nbconvert_exporter": "python",
      "pygments_lexer": "ipython3",
      "version": "3.12.8"
    }
  },
  "nbformat": 4,
  "nbformat_minor": 0
}
